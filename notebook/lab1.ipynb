{
 "cells": [
  {
   "cell_type": "code",
   "execution_count": 1,
   "id": "37cefae0-d8ea-47f3-b84d-e1656a82a91f",
   "metadata": {},
   "outputs": [],
   "source": [
    "import numpy as np"
   ]
  },
  {
   "cell_type": "code",
   "execution_count": 2,
   "id": "28fd79ca-4098-4443-a486-4d0419fad517",
   "metadata": {},
   "outputs": [],
   "source": [
    "np.random.seed(2025)"
   ]
  },
  {
   "cell_type": "markdown",
   "id": "2590feb1-1ba0-480d-ad6c-cd3f35642d35",
   "metadata": {},
   "source": [
    "### relative error"
   ]
  },
  {
   "cell_type": "code",
   "execution_count": 3,
   "id": "b3811557-c2a1-4bee-8eba-3face977e8c0",
   "metadata": {},
   "outputs": [],
   "source": [
    "def relative_error(x, x_true):\n",
    "    epsilon = np.abs(x - x_true)\n",
    "    error =  epsilon / x\n",
    "    return error"
   ]
  },
  {
   "cell_type": "code",
   "execution_count": 4,
   "id": "ebc4076f-b66c-4818-b986-987d5885e311",
   "metadata": {},
   "outputs": [
    {
     "data": {
      "text/plain": [
       "0.09090909090909091"
      ]
     },
     "execution_count": 4,
     "metadata": {},
     "output_type": "execute_result"
    }
   ],
   "source": [
    "relative_error(11, 10)"
   ]
  },
  {
   "cell_type": "code",
   "execution_count": 5,
   "id": "a4c0458a-0069-472e-ba7a-dec3de7709b6",
   "metadata": {},
   "outputs": [
    {
     "data": {
      "text/plain": [
       "0.004975124378109453"
      ]
     },
     "execution_count": 5,
     "metadata": {},
     "output_type": "execute_result"
    }
   ],
   "source": [
    "relative_error(1005, 1000)"
   ]
  },
  {
   "cell_type": "code",
   "execution_count": 6,
   "id": "9672a508-672d-4549-8e85-e411781ae24d",
   "metadata": {},
   "outputs": [
    {
     "data": {
      "text/plain": [
       "-0.25"
      ]
     },
     "execution_count": 6,
     "metadata": {},
     "output_type": "execute_result"
    }
   ],
   "source": [
    "relative_error(-8, -10)"
   ]
  },
  {
   "cell_type": "code",
   "execution_count": 7,
   "id": "38b318ea-30ca-4f69-829a-aca3e88ea83b",
   "metadata": {},
   "outputs": [],
   "source": [
    "def positive_relative_error(x, x_true):\n",
    "    epsilon = np.abs(x - x_true)\n",
    "    error =  epsilon / np.abs(x)\n",
    "    return error"
   ]
  },
  {
   "cell_type": "code",
   "execution_count": 8,
   "id": "ba15874b-1366-4ede-ae7a-beeb5e84acd4",
   "metadata": {},
   "outputs": [
    {
     "data": {
      "text/plain": [
       "0.25"
      ]
     },
     "execution_count": 8,
     "metadata": {},
     "output_type": "execute_result"
    }
   ],
   "source": [
    "positive_relative_error(-8, -10)"
   ]
  },
  {
   "cell_type": "markdown",
   "id": "e321b43e-3493-44d7-9505-38df6ed5660e",
   "metadata": {},
   "source": [
    "### significant digits"
   ]
  },
  {
   "cell_type": "code",
   "execution_count": 9,
   "id": "7529a376-6083-48a2-b98a-89a03dcd73f0",
   "metadata": {},
   "outputs": [
    {
     "data": {
      "text/plain": [
       "3.141592653589793"
      ]
     },
     "execution_count": 9,
     "metadata": {},
     "output_type": "execute_result"
    }
   ],
   "source": [
    "np.pi"
   ]
  },
  {
   "cell_type": "code",
   "execution_count": 10,
   "id": "9b71b507-7ea7-43fc-8c2d-516c685ac095",
   "metadata": {},
   "outputs": [
    {
     "data": {
      "text/plain": [
       "0.0015926535897929917"
      ]
     },
     "execution_count": 10,
     "metadata": {},
     "output_type": "execute_result"
    }
   ],
   "source": [
    "np.abs(3.14 - np.pi)"
   ]
  },
  {
   "cell_type": "code",
   "execution_count": 11,
   "id": "a8ac68f8-101f-43f2-9e29-4501bfc4257b",
   "metadata": {},
   "outputs": [
    {
     "data": {
      "text/plain": [
       "7.346410206832132e-06"
      ]
     },
     "execution_count": 11,
     "metadata": {},
     "output_type": "execute_result"
    }
   ],
   "source": [
    "np.abs(3.1416 - np.pi)"
   ]
  },
  {
   "cell_type": "code",
   "execution_count": 12,
   "id": "5103929d-9572-4b45-8dd9-d0b3fe6119d4",
   "metadata": {},
   "outputs": [
    {
     "data": {
      "text/plain": [
       "'3'"
      ]
     },
     "execution_count": 12,
     "metadata": {},
     "output_type": "execute_result"
    }
   ],
   "source": [
    "f\"{np.pi:.1g}\""
   ]
  },
  {
   "cell_type": "code",
   "execution_count": 13,
   "id": "24c876b6-bab0-4f31-b644-001853734ff1",
   "metadata": {},
   "outputs": [
    {
     "data": {
      "text/plain": [
       "'3.1'"
      ]
     },
     "execution_count": 13,
     "metadata": {},
     "output_type": "execute_result"
    }
   ],
   "source": [
    "f\"{np.pi:.2g}\""
   ]
  },
  {
   "cell_type": "code",
   "execution_count": 14,
   "id": "b237e8c0-403a-4cc5-9b53-48479ce14424",
   "metadata": {},
   "outputs": [
    {
     "data": {
      "text/plain": [
       "'187.93'"
      ]
     },
     "execution_count": 14,
     "metadata": {},
     "output_type": "execute_result"
    }
   ],
   "source": [
    "f\"{187.9325:.5g}\""
   ]
  },
  {
   "cell_type": "markdown",
   "id": "469b16f0-7531-44da-94e5-df320ccd8f7e",
   "metadata": {},
   "source": [
    "#### Theorem 1: relative error < 1/(2a_1)*10^-(n-1), then there are at least n significant digits"
   ]
  },
  {
   "cell_type": "code",
   "execution_count": 15,
   "id": "93e10d68-088a-40d9-957d-d31b42d4c71d",
   "metadata": {},
   "outputs": [],
   "source": [
    "def get_number_of_significant_digits(x, relative_error):\n",
    "    a1 = int(f\"{x:.1g}\")\n",
    "    #n = 1 - np.log10(relative_error * (2*a1))\n",
    "    n = 1 - np.log10(relative_error) - np.log10(2) - np.log10(a1)\n",
    "    n = np.ceil(n)\n",
    "    return n"
   ]
  },
  {
   "cell_type": "code",
   "execution_count": 16,
   "id": "723f242a-1188-408b-a24b-34bcb1c4ebb9",
   "metadata": {},
   "outputs": [
    {
     "data": {
      "text/plain": [
       "4.47213595499958"
      ]
     },
     "execution_count": 16,
     "metadata": {},
     "output_type": "execute_result"
    }
   ],
   "source": [
    "np.sqrt(20)"
   ]
  },
  {
   "cell_type": "code",
   "execution_count": 17,
   "id": "a9db022a-d462-4ac6-bae0-d7433ceac9bb",
   "metadata": {},
   "outputs": [
    {
     "data": {
      "text/plain": [
       "4.0"
      ]
     },
     "execution_count": 17,
     "metadata": {},
     "output_type": "execute_result"
    }
   ],
   "source": [
    "get_number_of_significant_digits(np.sqrt(20), 0.001)"
   ]
  },
  {
   "cell_type": "markdown",
   "id": "ec9abbaf-d33f-49b4-bc50-7ad821a44962",
   "metadata": {},
   "source": [
    "### arithmetic operation"
   ]
  },
  {
   "cell_type": "markdown",
   "id": "cdfd9a1f-c6f5-4fed-b776-bc283016ad55",
   "metadata": {},
   "source": [
    "#### e(x1+x2) < e(x1) + e(x2)"
   ]
  },
  {
   "cell_type": "code",
   "execution_count": 18,
   "id": "6d1a18ab-ed8d-4457-8db9-d595204d27a1",
   "metadata": {},
   "outputs": [],
   "source": [
    "def e(x, x_true):\n",
    "    error = np.abs(x_true - x)\n",
    "    return error"
   ]
  },
  {
   "cell_type": "code",
   "execution_count": 19,
   "id": "bf24b0a8-e063-4454-951c-6250338569d8",
   "metadata": {},
   "outputs": [
    {
     "data": {
      "text/plain": [
       "0.1354881636779618"
      ]
     },
     "execution_count": 19,
     "metadata": {},
     "output_type": "execute_result"
    }
   ],
   "source": [
    "np.random.random()"
   ]
  },
  {
   "cell_type": "code",
   "execution_count": 20,
   "id": "85b45f86-1f76-40b7-8ee3-5d9b3d4c0f06",
   "metadata": {},
   "outputs": [
    {
     "data": {
      "text/plain": [
       "0.887851702730378"
      ]
     },
     "execution_count": 20,
     "metadata": {},
     "output_type": "execute_result"
    }
   ],
   "source": [
    "np.random.random()"
   ]
  },
  {
   "cell_type": "code",
   "execution_count": 21,
   "id": "482de876-50ad-4fc3-a5c6-a74cf20bc105",
   "metadata": {},
   "outputs": [],
   "source": [
    "x_true = 10\n",
    "x1 = x_true + (np.random.random() - 0.5)\n",
    "x2 = x_true + (np.random.random() - 0.5)"
   ]
  },
  {
   "cell_type": "code",
   "execution_count": 22,
   "id": "3107d727-ebe4-4f11-980d-839e6fec4243",
   "metadata": {},
   "outputs": [
    {
     "data": {
      "text/plain": [
       "0.4326056398865017"
      ]
     },
     "execution_count": 22,
     "metadata": {},
     "output_type": "execute_result"
    }
   ],
   "source": [
    "e1 = e(x1, x_true)\n",
    "e1"
   ]
  },
  {
   "cell_type": "code",
   "execution_count": 23,
   "id": "d5a53cb5-7ca5-4ff7-8fec-500e3aa8551c",
   "metadata": {},
   "outputs": [
    {
     "data": {
      "text/plain": [
       "0.054431835952405194"
      ]
     },
     "execution_count": 23,
     "metadata": {},
     "output_type": "execute_result"
    }
   ],
   "source": [
    "e2 = e(x2, x_true)\n",
    "e2"
   ]
  },
  {
   "cell_type": "code",
   "execution_count": 24,
   "id": "026fd1d8-2916-4d56-b558-8c877fd5ed7c",
   "metadata": {},
   "outputs": [
    {
     "data": {
      "text/plain": [
       "(0.3781738039340965, True)"
      ]
     },
     "execution_count": 24,
     "metadata": {},
     "output_type": "execute_result"
    }
   ],
   "source": [
    "e12 = e(x1+x2, x_true * 2)\n",
    "e12, e12 < e1 + e2"
   ]
  },
  {
   "cell_type": "code",
   "execution_count": 25,
   "id": "e9fb452a-53c6-4863-8ef7-5d37ae2116bf",
   "metadata": {},
   "outputs": [
    {
     "name": "stdout",
     "output_type": "stream",
     "text": [
      "e1=0.16923180, e2=0.21983564, e12=0.38906744, upper_bound=0.38906744\n",
      "e1=0.30589082, e2=0.02409433, e12=0.32998514, upper_bound=0.32998514\n",
      "e1=0.05646149, e2=0.37512464, e12=0.43158613, upper_bound=0.43158613\n",
      "e1=0.36849369, e2=0.15952172, e12=0.52801541, upper_bound=0.52801541\n",
      "e1=0.11796577, e2=0.21882254, e12=0.33678831, upper_bound=0.33678831\n",
      "e1=0.15701484, e2=0.49954257, e12=0.65655741, upper_bound=0.65655741\n",
      "e1=0.20257201, e2=0.41946441, e12=0.62203642, upper_bound=0.62203642\n"
     ]
    }
   ],
   "source": [
    "for _ in range(100):\n",
    "    x1 = x_true + (np.random.random() - 0.5)\n",
    "    x2 = x_true + (np.random.random() - 0.5)\n",
    "    e1 = e(x1, x_true)\n",
    "    e2 = e(x2, x_true)\n",
    "    e12 = e(x1+x2, x_true * 2)\n",
    "    upper_bound = e1 + e2\n",
    "    if e12 > upper_bound:\n",
    "        print(f\"e1={e1:.8f}, e2={e2:.8f}, e12={e12:.8f}, upper_bound={upper_bound:.8f}\")"
   ]
  },
  {
   "cell_type": "code",
   "execution_count": 26,
   "id": "c2945ffd-d469-4418-8982-a2bcdf4c030a",
   "metadata": {},
   "outputs": [],
   "source": [
    "for _ in range(100):\n",
    "    x1 = x_true + (np.random.random() - 0.5)\n",
    "    x2 = x_true + (np.random.random() - 0.5)\n",
    "    e1 = e(x1, x_true)\n",
    "    e2 = e(x2, x_true)\n",
    "    e12 = e(x1+x2, x_true * 2)\n",
    "    upper_bound = e1 + e2 + 1e-8\n",
    "    if e12 > upper_bound:\n",
    "        print(f\"e1={e1:.8f}, e2={e2:.8f}, e12={e12:.8f}, upper_bound={upper_bound:.8f}\")"
   ]
  },
  {
   "cell_type": "code",
   "execution_count": 27,
   "id": "9d519845-ea94-4a5d-86ad-ea93cc3e4b33",
   "metadata": {},
   "outputs": [],
   "source": [
    "for _ in range(100):\n",
    "    x1 = x_true + (np.random.random() - 0.5)\n",
    "    x2 = x_true + (np.random.random() - 0.5)\n",
    "    e1 = e(x1, x_true)\n",
    "    e2 = e(x2, x_true)\n",
    "    e12 = e(x1-x2, 0)\n",
    "    upper_bound = e1 + e2 + 1e-8\n",
    "    if e12 > upper_bound:\n",
    "        print(f\"e1={e1:.8f}, e2={e2:.8f}, e12={e12:.8f}, upper_bound={upper_bound:.8f}\")"
   ]
  },
  {
   "cell_type": "markdown",
   "id": "3d63947f-8dd0-43ba-b334-63ea926a5b33",
   "metadata": {},
   "source": [
    "#### e(x1x2) < e(x1)|x2| + e(x2)|x_true|"
   ]
  },
  {
   "cell_type": "code",
   "execution_count": 28,
   "id": "783258ec-11c4-4713-87ba-dca867dbeadd",
   "metadata": {},
   "outputs": [
    {
     "name": "stdout",
     "output_type": "stream",
     "text": [
      "e1=0.09857609, e2=0.37086677, e12=4.65787000, upper_bound=4.62131141\n",
      "e1=0.41726661, e2=0.32447272, e12=7.28200161, upper_bound=7.14660999\n",
      "e1=0.38984329, e2=0.00873723, e12=3.98239905, upper_bound=3.97899291\n",
      "e1=0.11895874, e2=0.49180069, e12=6.04909036, upper_bound=5.99058638\n",
      "e1=0.08025816, e2=0.45725451, e12=5.33842836, upper_bound=5.30172996\n",
      "e1=0.47811159, e2=0.34780552, e12=8.09288126, upper_bound=7.92659142\n",
      "e1=0.04759617, e2=0.06439065, e12=1.11680345, upper_bound=1.11373872\n",
      "e1=0.27478145, e2=0.45721216, e12=7.19430262, upper_bound=7.06866921\n",
      "e1=0.01358731, e2=0.23848203, e12=2.51745306, upper_bound=2.51421274\n",
      "e1=0.27002776, e2=0.38509948, e12=6.44728490, upper_bound=6.34329736\n",
      "e1=0.24192507, e2=0.23640364, e12=4.72609515, upper_bound=4.66890320\n",
      "e1=0.22230994, e2=0.23260807, e12=4.49746907, upper_bound=4.44575800\n",
      "e1=0.06275001, e2=0.44479184, e12=5.04750780, upper_bound=5.01959712\n",
      "e1=0.30683757, e2=0.19365209, e12=4.94547684, upper_bound=4.88605711\n",
      "e1=0.26888250, e2=0.27225763, e12=5.33819596, upper_bound=5.26499066\n",
      "e1=0.41768973, e2=0.12184997, e12=5.34450151, upper_bound=5.29360604\n",
      "e1=0.48319832, e2=0.49366802, e12=9.53012387, upper_bound=9.29158432\n",
      "e1=0.24268845, e2=0.18438150, e12=4.22595221, upper_bound=4.18120496\n",
      "e1=0.28284831, e2=0.19827018, e12=4.75510444, upper_bound=4.69902407\n",
      "e1=0.15815586, e2=0.22421391, e12=3.78823692, upper_bound=3.75277618\n",
      "e1=0.08810650, e2=0.02341716, e12=1.11317337, upper_bound=1.11111018\n",
      "e1=0.31178979, e2=0.42935279, e12=7.27755793, upper_bound=7.14369013\n",
      "e1=0.26330908, e2=0.19354729, e12=4.51760091, upper_bound=4.46663816\n",
      "e1=0.48248997, e2=0.45259800, e12=9.13250573, upper_bound=8.91413174\n",
      "e1=0.20956633, e2=0.31810153, e12=5.21001519, upper_bound=5.14335183\n",
      "e1=0.49923733, e2=0.44518106, e12=9.22193293, upper_bound=8.99968194\n",
      "e1=0.14930105, e2=0.06196275, e12=2.10338691, upper_bound=2.09413581\n",
      "e1=0.12953424, e2=0.42538027, e12=5.49404377, upper_bound=5.43894247\n"
     ]
    }
   ],
   "source": [
    "for _ in range(100):\n",
    "    x1 = x_true + (np.random.random() - 0.5)\n",
    "    x2 = x_true + (np.random.random() - 0.5)\n",
    "    e1 = e(x1, x_true)\n",
    "    e2 = e(x2, x_true)\n",
    "    e12 = e(x1*x2, x_true*x_true)\n",
    "    upper_bound = e1*np.abs(x2) + e2*np.abs(x1) + 1e-8  # this is not accurate, as in the book\n",
    "    if e12 > upper_bound:\n",
    "        print(f\"e1={e1:.8f}, e2={e2:.8f}, e12={e12:.8f}, upper_bound={upper_bound:.8f}\")"
   ]
  },
  {
   "cell_type": "code",
   "execution_count": 29,
   "id": "30b49640-f5ce-4d3e-8a83-1f3637489ee6",
   "metadata": {},
   "outputs": [],
   "source": [
    "for _ in range(100):\n",
    "    x1 = x_true + (np.random.random() - 0.5)\n",
    "    x2 = x_true + (np.random.random() - 0.5)\n",
    "    e1 = e(x1, x_true)\n",
    "    e2 = e(x2, x_true)\n",
    "    e12 = e(x1*x2, x_true*x_true)\n",
    "    upper_bound = e1*np.abs(x2) + e2*np.abs(x_true) + 1e-8  # this is correct\n",
    "    if e12 > upper_bound:\n",
    "        print(f\"e1={e1:.8f}, e2={e2:.8f}, e12={e12:.8f}, upper_bound={upper_bound:.8f}\")"
   ]
  },
  {
   "cell_type": "code",
   "execution_count": 30,
   "id": "93a7979b-ceaa-47c4-854e-dac637ca5a74",
   "metadata": {},
   "outputs": [],
   "source": [
    "for _ in range(100):\n",
    "    x1 = x_true + (np.random.random() - 0.5)\n",
    "    x2 = x_true + (np.random.random() - 0.5)\n",
    "    e1 = e(x1, x_true)\n",
    "    e2 = e(x2, x_true)\n",
    "    e12 = e(x1*x2, x_true*x_true)\n",
    "    upper_bound = e1*np.abs(x_true) + e2*np.abs(x1) + 1e-8  # another form\n",
    "    if e12 > upper_bound:\n",
    "        print(f\"e1={e1:.8f}, e2={e2:.8f}, e12={e12:.8f}, upper_bound={upper_bound:.8f}\")"
   ]
  },
  {
   "cell_type": "markdown",
   "id": "b573fe2e-463f-42a6-8144-dd74a183f5c3",
   "metadata": {},
   "source": [
    "#### e(x1/x2) <= [|x1|e(x2)+|x2|e(x1)]/e(x2)^2"
   ]
  },
  {
   "cell_type": "code",
   "execution_count": 31,
   "id": "3320c5f8-cde5-422e-b310-39757500d04a",
   "metadata": {},
   "outputs": [
    {
     "name": "stdout",
     "output_type": "stream",
     "text": [
      "e1=0.08284993, e2=0.47047769, e12=0.05284645, upper_bound=0.05047188\n",
      "e1=0.18207699, e2=0.19171087, e12=0.03667567, upper_bound=0.03598580\n",
      "e1=0.42150982, e2=0.30198671, e12=0.07022884, upper_bound=0.06817020\n",
      "e1=0.47094630, e2=0.25571113, e12=0.07085393, upper_bound=0.06908730\n",
      "e1=0.00449981, e2=0.44854881, e12=0.04335996, upper_bound=0.04149855\n",
      "e1=0.25087535, e2=0.11866464, e12=0.03652063, upper_bound=0.03609235\n",
      "e1=0.44984900, e2=0.46563573, e12=0.08747531, upper_bound=0.08358338\n",
      "e1=0.24432597, e2=0.13076932, e12=0.03702535, upper_bound=0.03654743\n",
      "e1=0.14173744, e2=0.13772780, e12=0.02756685, upper_bound=0.02719235\n",
      "e1=0.01473164, e2=0.40719382, e12=0.04054171, upper_bound=0.03895548\n",
      "e1=0.02768870, e2=0.43262288, e12=0.04412233, upper_bound=0.04229266\n",
      "e1=0.34750396, e2=0.06394763, e12=0.04088372, upper_bound=0.04062395\n",
      "e1=0.45362463, e2=0.34433833, e12=0.07714007, upper_bound=0.07457227\n",
      "e1=0.37362705, e2=0.35680561, e12=0.07052683, upper_bound=0.06809710\n",
      "e1=0.44746263, e2=0.16617386, e12=0.06036061, upper_bound=0.05937398\n",
      "e1=0.29369392, e2=0.20397938, e12=0.04877247, upper_bound=0.04779751\n",
      "e1=0.34992245, e2=0.18791317, e12=0.05279154, upper_bound=0.05181782\n",
      "e1=0.25954254, e2=0.16341577, e12=0.04161576, upper_bound=0.04094664\n",
      "e1=0.33062532, e2=0.45454023, e12=0.07510283, upper_bound=0.07183753\n",
      "e1=0.21869264, e2=0.31179039, e12=0.05144432, upper_bound=0.04988884\n",
      "e1=0.11136841, e2=0.14858934, e12=0.02561516, upper_bound=0.02524013\n"
     ]
    }
   ],
   "source": [
    "for _ in range(100):\n",
    "    x1 = x_true + (np.random.random() - 0.5)\n",
    "    x2 = x_true + (np.random.random() - 0.5)\n",
    "    e1 = e(x1, x_true)\n",
    "    e2 = e(x2, x_true)\n",
    "    e12 = e(x1/x2, 1)\n",
    "    upper_bound = (np.abs(x1)*e2 + np.abs(x2)*e1) / np.abs(x2)**2 + 1e-8  # this is not accurate, as in the book\n",
    "    if e12 > upper_bound:\n",
    "        print(f\"e1={e1:.8f}, e2={e2:.8f}, e12={e12:.8f}, upper_bound={upper_bound:.8f}\")"
   ]
  },
  {
   "cell_type": "code",
   "execution_count": 32,
   "id": "82c55f65-32eb-456e-a48b-90b801120a09",
   "metadata": {},
   "outputs": [],
   "source": [
    "for _ in range(100):\n",
    "    x1 = x_true + (np.random.random() - 0.5)\n",
    "    x2 = x_true + (np.random.random() - 0.5)\n",
    "    e1 = e(x1, x_true)\n",
    "    e2 = e(x2, x_true)\n",
    "    e12 = e(x1/x2, 1)\n",
    "    upper_bound = (e1 + e2) / np.abs(x2) + 1e-8\n",
    "    if e12 > upper_bound:\n",
    "        print(f\"e1={e1:.8f}, e2={e2:.8f}, e12={e12:.8f}, upper_bound={upper_bound:.8f}\")"
   ]
  },
  {
   "cell_type": "markdown",
   "id": "129a96f3-a8a8-41ae-907d-b6b50c716d9a",
   "metadata": {},
   "source": [
    "### errors due to subtraction"
   ]
  },
  {
   "cell_type": "code",
   "execution_count": 33,
   "id": "be11e612-3b54-44eb-af7c-8f9b2c3623f1",
   "metadata": {},
   "outputs": [
    {
     "data": {
      "text/plain": [
       "0.0"
      ]
     },
     "execution_count": 33,
     "metadata": {},
     "output_type": "execute_result"
    }
   ],
   "source": [
    "theta = 1e-8\n",
    "x1 = (1 - np.cos(theta)) / theta**2\n",
    "x1"
   ]
  },
  {
   "cell_type": "code",
   "execution_count": 34,
   "id": "c05b9c5b-c0dc-4ded-9853-e88be0a2b375",
   "metadata": {},
   "outputs": [
    {
     "data": {
      "text/plain": [
       "0.5"
      ]
     },
     "execution_count": 34,
     "metadata": {},
     "output_type": "execute_result"
    }
   ],
   "source": [
    "# L-hopital rule\n",
    "# d[2*sin(x/2)**2]/dx = 4sin(x/2)cos(x/2)/2 = sin(x)\n",
    "# d(x**2)/dx = 2x\n",
    "# lim sin(x)/2x = 1/2\n",
    "x2 = 2.0*(np.sin(theta/2)**2) / theta**2\n",
    "x2"
   ]
  },
  {
   "cell_type": "code",
   "execution_count": 35,
   "id": "b8457579-5e1d-4e8b-aa99-244a2cc7481e",
   "metadata": {},
   "outputs": [
    {
     "data": {
      "text/plain": [
       "0.0"
      ]
     },
     "execution_count": 35,
     "metadata": {},
     "output_type": "execute_result"
    }
   ],
   "source": [
    "1 - np.cos(theta)"
   ]
  },
  {
   "cell_type": "code",
   "execution_count": 36,
   "id": "a761283c-e3d4-4dfa-8122-266c066fb99a",
   "metadata": {},
   "outputs": [
    {
     "data": {
      "text/plain": [
       "5.0000000000000005e-17"
      ]
     },
     "execution_count": 36,
     "metadata": {},
     "output_type": "execute_result"
    }
   ],
   "source": [
    "2.0*(np.sin(theta/2)**2)"
   ]
  },
  {
   "cell_type": "code",
   "execution_count": null,
   "id": "d4e46352-5c3d-485f-8562-beed8e555bba",
   "metadata": {},
   "outputs": [],
   "source": []
  }
 ],
 "metadata": {
  "kernelspec": {
   "display_name": "Python 3 (ipykernel)",
   "language": "python",
   "name": "python3"
  },
  "language_info": {
   "codemirror_mode": {
    "name": "ipython",
    "version": 3
   },
   "file_extension": ".py",
   "mimetype": "text/x-python",
   "name": "python",
   "nbconvert_exporter": "python",
   "pygments_lexer": "ipython3",
   "version": "3.11.5"
  }
 },
 "nbformat": 4,
 "nbformat_minor": 5
}
