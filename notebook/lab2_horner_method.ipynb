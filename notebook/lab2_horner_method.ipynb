{
 "cells": [
  {
   "cell_type": "code",
   "execution_count": 1,
   "id": "89f302aa-e1d9-45bb-a4f1-deef6123d523",
   "metadata": {},
   "outputs": [],
   "source": [
    "import numpy as np"
   ]
  },
  {
   "cell_type": "code",
   "execution_count": 2,
   "id": "094c1e0b-1937-4bb8-9ed8-fbaa92d75210",
   "metadata": {},
   "outputs": [],
   "source": [
    "def p(coef_a, x):  #qinjiushao/honer\n",
    "    b0 = coef_a[0]\n",
    "    b1 = 0\n",
    "    for a in coef_a[1:]:\n",
    "        b1 = b0 * x + a\n",
    "        b0 = b1  # update\n",
    "    return b1"
   ]
  },
  {
   "cell_type": "markdown",
   "id": "18a0436b-2747-4cbd-b826-727d118e5128",
   "metadata": {},
   "source": [
    "### 3x^5 - 2x^3 + x + 7"
   ]
  },
  {
   "cell_type": "code",
   "execution_count": 3,
   "id": "0d41479a-e58f-467a-a2f1-f23e06356bef",
   "metadata": {},
   "outputs": [],
   "source": [
    "def f(x):\n",
    "    fx = 3*x**5 - 2*x**3 + x + 7\n",
    "    return fx"
   ]
  },
  {
   "cell_type": "code",
   "execution_count": 4,
   "id": "11af46f0-10ff-4e6a-8237-20911bec30de",
   "metadata": {},
   "outputs": [
    {
     "data": {
      "text/plain": [
       "685"
      ]
     },
     "execution_count": 4,
     "metadata": {},
     "output_type": "execute_result"
    }
   ],
   "source": [
    "x = 3\n",
    "y = f(x)\n",
    "y"
   ]
  },
  {
   "cell_type": "code",
   "execution_count": 5,
   "id": "c8500c2d-c546-48b8-b2c8-115a03f9aac4",
   "metadata": {},
   "outputs": [
    {
     "data": {
      "text/plain": [
       "685"
      ]
     },
     "execution_count": 5,
     "metadata": {},
     "output_type": "execute_result"
    }
   ],
   "source": [
    "coef_a = [3, 0, -2, 0, 1, 7]\n",
    "p(coef_a, x)"
   ]
  },
  {
   "cell_type": "code",
   "execution_count": 6,
   "id": "aebf1ed7-f4ed-466a-8004-8ac7463b6ebd",
   "metadata": {},
   "outputs": [],
   "source": [
    "\"\"\"\n",
    "bi(x) = bi_1(x)x + ai \n",
    "bi'(x) = bi_1'(x)x + bi_1(x)\n",
    "\"\"\"\n",
    "def p_with_derivative(coef_a, x):\n",
    "    b0 = coef_a[0]\n",
    "    b1 = 0\n",
    "\n",
    "    d0 = 0\n",
    "    d1 = 0\n",
    "    for a in coef_a[1:]:\n",
    "        b1 = b0 * x + a\n",
    "\n",
    "        d1 = d0 * x + b0\n",
    "\n",
    "        # update\n",
    "        b0 = b1 \n",
    "        d0 = d1\n",
    "    return b1, d1"
   ]
  },
  {
   "cell_type": "code",
   "execution_count": 7,
   "id": "593845b7-f1de-4309-be54-6993cd5f0cd6",
   "metadata": {},
   "outputs": [],
   "source": [
    "def df(x):\n",
    "    dy = 15*x**4 - 6*x**2 + 1\n",
    "    return dy"
   ]
  },
  {
   "cell_type": "code",
   "execution_count": 8,
   "id": "a9510782-1cc7-468d-9cbc-8b59f108ee29",
   "metadata": {},
   "outputs": [
    {
     "data": {
      "text/plain": [
       "1162"
      ]
     },
     "execution_count": 8,
     "metadata": {},
     "output_type": "execute_result"
    }
   ],
   "source": [
    "dy = df(x)\n",
    "dy"
   ]
  },
  {
   "cell_type": "code",
   "execution_count": 9,
   "id": "67078435-905d-491c-9ab5-4993cee489d8",
   "metadata": {},
   "outputs": [
    {
     "data": {
      "text/plain": [
       "(685, 1162)"
      ]
     },
     "execution_count": 9,
     "metadata": {},
     "output_type": "execute_result"
    }
   ],
   "source": [
    "p_with_derivative(coef_a, x)"
   ]
  },
  {
   "cell_type": "code",
   "execution_count": 12,
   "id": "b8e9fd08-2f2d-4de9-ad3c-38323a5d8d5a",
   "metadata": {},
   "outputs": [],
   "source": [
    "def check_equal(x, x_true, absolute_error=1e-7, relative_error=1e-4):\n",
    "    abs = np.abs(x - x_true)\n",
    "    assert abs <= absolute_error, f\"x={x:.7f}, x_true={x_true:.7f}, absolute_error={abs:.7f}\"\n",
    "\n",
    "    rel = abs / np.abs(x_true)\n",
    "    assert rel <= relative_error, f\"x={x:.7f}, x_true={x_true:.7f}, relative_error={rel:.7f}\""
   ]
  },
  {
   "cell_type": "code",
   "execution_count": 13,
   "id": "63ef4fe2-d517-4c4b-ac03-1ef53a3791df",
   "metadata": {},
   "outputs": [],
   "source": [
    "for _ in range(100):\n",
    "    x = np.random.random() - 0.5\n",
    "\n",
    "    y_true = f(x)\n",
    "    dy_true = df(x)\n",
    "\n",
    "    y, dy = p_with_derivative(coef_a, x)\n",
    "\n",
    "    check_equal(y, y_true)\n",
    "    check_equal(dy, dy_true)"
   ]
  },
  {
   "cell_type": "code",
   "execution_count": 14,
   "id": "3dafe5b6-3fa7-4e56-bb6f-609d14c2a779",
   "metadata": {},
   "outputs": [
    {
     "data": {
      "text/plain": [
       "(7.179822685458116, 7.179822685458116)"
      ]
     },
     "execution_count": 14,
     "metadata": {},
     "output_type": "execute_result"
    }
   ],
   "source": [
    "y, y_true"
   ]
  },
  {
   "cell_type": "code",
   "execution_count": 15,
   "id": "3874c403-ab88-4bc3-8992-3584e5da2790",
   "metadata": {},
   "outputs": [
    {
     "data": {
      "text/plain": [
       "(0.7963776526908449, 0.7963776526908449)"
      ]
     },
     "execution_count": 15,
     "metadata": {},
     "output_type": "execute_result"
    }
   ],
   "source": [
    "dy, dy_true"
   ]
  },
  {
   "cell_type": "code",
   "execution_count": null,
   "id": "24bed3ef-158d-46aa-9d09-f32657bf36d6",
   "metadata": {},
   "outputs": [],
   "source": []
  }
 ],
 "metadata": {
  "kernelspec": {
   "display_name": "Python 3 (ipykernel)",
   "language": "python",
   "name": "python3"
  },
  "language_info": {
   "codemirror_mode": {
    "name": "ipython",
    "version": 3
   },
   "file_extension": ".py",
   "mimetype": "text/x-python",
   "name": "python",
   "nbconvert_exporter": "python",
   "pygments_lexer": "ipython3",
   "version": "3.11.5"
  }
 },
 "nbformat": 4,
 "nbformat_minor": 5
}
